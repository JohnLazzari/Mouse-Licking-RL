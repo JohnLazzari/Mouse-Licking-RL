{
 "cells": [
  {
   "cell_type": "code",
   "execution_count": 318,
   "metadata": {},
   "outputs": [],
   "source": [
    "import gym\n",
    "import numpy as np\n",
    "import torch\n",
    "import torch.nn as nn\n",
    "import torch.optim as optim\n",
    "import torch.nn.functional as F\n",
    "from sac_model import weights_init_\n",
    "from torch.distributions import Normal\n",
    "import matplotlib.pyplot as plt"
   ]
  },
  {
   "cell_type": "code",
   "execution_count": 319,
   "metadata": {},
   "outputs": [],
   "source": [
    "class ThalamoCortical(nn.Module):\n",
    "    def __init__(self, inp_dim, hid):\n",
    "        super(ThalamoCortical, self).__init__()\n",
    "        self.inp_dim = inp_dim\n",
    "        self.hid = hid\n",
    "\n",
    "        # Unload fixed weights\n",
    "        weights = torch.load(\"checkpoints/thalamocortical_init.pth\")\n",
    "\n",
    "        # Cortical Weights\n",
    "        self.J_cc = weights[\"Jcc\"]\n",
    "        self.lick_J_ct = weights[\"lick_Jct\"]\n",
    "\n",
    "        # Thalamic Weights\n",
    "        self.lick_J_tc = weights[\"lick_Jtc\"]\n",
    "\n",
    "        # Thalamic Timescale (not sure what to put)\n",
    "        self.tau = 1.\n",
    "\n",
    "        # Readout for probability\n",
    "        self.W_out = weights[\"W_out\"]\n",
    "\n",
    "        self.cortical_activity = torch.zeros(size=(hid,))\n",
    "        self.c_init_mu = torch.zeros(size=(hid,))\n",
    "\n",
    "    # TODO learn the preparatory weights and add that into the network so that each switch starts with correct initial condition\n",
    "    def forward(self, x):\n",
    "\n",
    "        # discrete dynamics with forward euler (dt = 1)\n",
    "        self.thalamic_activity = self.lick_J_tc @ self.cortical_activity + x\n",
    "        # make this relu just 0 or 1 instead\n",
    "        print(self.cortical_activity)\n",
    "        self.cortical_activity = self.J_cc @ self.cortical_activity + self.lick_J_ct @ self.thalamic_activity\n",
    "        lick_prob = self.W_out @ self.cortical_activity\n",
    "\n",
    "        return lick_prob"
   ]
  },
  {
   "cell_type": "code",
   "execution_count": 320,
   "metadata": {},
   "outputs": [
    {
     "name": "stdout",
     "output_type": "stream",
     "text": [
      "tensor([0., 0., 0., 0., 0., 0., 0., 0.])\n",
      "tensor([ 0.0194, -0.0467, -0.0260,  0.0326, -0.0267,  0.0346,  0.0201, -0.0077],\n",
      "       grad_fn=<AddBackward0>)\n",
      "tensor([ 0.0360, -0.0936, -0.0591,  0.0464, -0.0161,  0.0740,  0.0750, -0.0469],\n",
      "       grad_fn=<AddBackward0>)\n",
      "tensor([ 0.0755, -0.1194, -0.0902,  0.0547,  0.0231,  0.1136,  0.1205, -0.1039],\n",
      "       grad_fn=<AddBackward0>)\n",
      "tensor([ 0.1138, -0.1458, -0.1136,  0.0666,  0.0613,  0.1484,  0.1747, -0.1640],\n",
      "       grad_fn=<AddBackward0>)\n",
      "tensor([ 0.1529, -0.1682, -0.1370,  0.0776,  0.1014,  0.1822,  0.2288, -0.2270],\n",
      "       grad_fn=<AddBackward0>)\n",
      "tensor([ 0.1926, -0.1895, -0.1588,  0.0899,  0.1422,  0.2157,  0.2813, -0.2904],\n",
      "       grad_fn=<AddBackward0>)\n",
      "tensor([ 0.2313, -0.2109, -0.1808,  0.1023,  0.1816,  0.2486,  0.3349, -0.3536],\n",
      "       grad_fn=<AddBackward0>)\n",
      "tensor([ 0.2704, -0.2320, -0.2027,  0.1150,  0.2216,  0.2818,  0.3875, -0.4170],\n",
      "       grad_fn=<AddBackward0>)\n",
      "tensor([ 0.3092, -0.2534, -0.2247,  0.1277,  0.2609,  0.3150,  0.4407, -0.4802],\n",
      "       grad_fn=<AddBackward0>)\n",
      "[0.024226412177085876, 0.11103436350822449, 0.22031235694885254, 0.3316267728805542, 0.44453656673431396, 0.5567448735237122, 0.6681488156318665, 0.7795301675796509, 0.8908122777938843, 1.0024089813232422]\n"
     ]
    },
    {
     "data": {
      "image/png": "[encoded data removed]",
      "text/plain": [
       "<Figure size 640x480 with 1 Axes>"
      ]
     },
     "metadata": {},
     "output_type": "display_data"
    }
   ],
   "source": [
    "net = ThalamoCortical(1, 8)\n",
    "test_input_lick = torch.ones(size=(int(1/.1),))*.1\n",
    "\n",
    "cortical_series = []\n",
    "for t in range(test_input_lick.shape[0]):\n",
    "    cortical_out = net(test_input_lick[t])\n",
    "    cortical_series.append(cortical_out.item())\n",
    "\n",
    "print(cortical_series)\n",
    "plt.plot(cortical_series)\n",
    "plt.show()"
   ]
  }
 ],
 "metadata": {
  "kernelspec": {
   "display_name": "snn",
   "language": "python",
   "name": "python3"
  },
  "language_info": {
   "codemirror_mode": {
    "name": "ipython",
    "version": 3
   },
   "file_extension": ".py",
   "mimetype": "text/x-python",
   "name": "python",
   "nbconvert_exporter": "python",
   "pygments_lexer": "ipython3",
   "version": "3.11.5"
  }
 },
 "nbformat": 4,
 "nbformat_minor": 2
}
