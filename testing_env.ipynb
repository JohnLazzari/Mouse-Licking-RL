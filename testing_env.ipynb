{
 "cells": [
  {
   "cell_type": "code",
   "execution_count": 351,
   "metadata": {},
   "outputs": [],
   "source": [
    "import gym\n",
    "import numpy as np\n",
    "import torch\n",
    "import torch.nn as nn\n",
    "import torch.optim as optim\n",
    "import torch.nn.functional as F\n",
    "from sac_model import weights_init_\n",
    "from torch.distributions import Normal\n",
    "import matplotlib.pyplot as plt"
   ]
  },
  {
   "cell_type": "code",
   "execution_count": 352,
   "metadata": {},
   "outputs": [],
   "source": [
    "class ThalamoCortical(nn.Module):\n",
    "    def __init__(self, inp_dim, hid):\n",
    "        super(ThalamoCortical, self).__init__()\n",
    "        self.inp_dim = inp_dim\n",
    "        self.hid = hid\n",
    "\n",
    "        # Unload fixed weights\n",
    "        weights = torch.load(\"checkpoints/thalamocortical_init.pth\")\n",
    "\n",
    "        # Cortical Weights\n",
    "        self.J_cc = weights[\"Jcc_3s\"]\n",
    "        self.lick_J_ct = weights[\"Jct_3s\"]\n",
    "\n",
    "        # Thalamic Weights\n",
    "        self.lick_J_tc = weights[\"Jtc_3s\"]\n",
    "\n",
    "        # Thalamic Timescale (not sure what to put)\n",
    "        self.tau = 1.\n",
    "\n",
    "        # Readout for probability\n",
    "        self.W_out = weights[\"W_out_3s\"]\n",
    "\n",
    "        self.cortical_activity = torch.zeros(size=(hid,))\n",
    "\n",
    "    # TODO learn the preparatory weights and add that into the network so that each switch starts with correct initial condition\n",
    "    def forward(self, x):\n",
    "\n",
    "        # discrete dynamics with forward euler (dt = 1)\n",
    "        self.thalamic_activity = x * self.lick_J_tc @ self.cortical_activity\n",
    "        # make this relu just 0 or 1 instead\n",
    "        print(self.cortical_activity)\n",
    "        self.cortical_activity = self.J_cc @ self.cortical_activity + self.lick_J_ct @ self.thalamic_activity\n",
    "        lick_prob = self.W_out @ self.cortical_activity\n",
    "\n",
    "        return lick_prob"
   ]
  },
  {
   "cell_type": "code",
   "execution_count": 353,
   "metadata": {},
   "outputs": [
    {
     "name": "stdout",
     "output_type": "stream",
     "text": [
      "tensor([0.3000, 0.3000, 0.3000, 0.3000, 0.3000, 0.3000, 0.3000, 0.3000])\n",
      "tensor([0.2538, 0.2470, 0.2545, 0.2475, 0.2523, 0.2651, 0.2411, 0.2668],\n",
      "       grad_fn=<AddBackward0>)\n",
      "tensor([0.2077, 0.1941, 0.2090, 0.1950, 0.2046, 0.2303, 0.1823, 0.2336],\n",
      "       grad_fn=<AddBackward0>)\n",
      "tensor([0.1616, 0.1412, 0.1636, 0.1426, 0.1570, 0.1955, 0.1235, 0.2004],\n",
      "       grad_fn=<AddBackward0>)\n",
      "tensor([0.1156, 0.0884, 0.1183, 0.0903, 0.1095, 0.1607, 0.0649, 0.1673],\n",
      "       grad_fn=<AddBackward0>)\n",
      "tensor([0.0697, 0.0357, 0.0730, 0.0380, 0.0621, 0.1260, 0.0063, 0.1342],\n",
      "       grad_fn=<AddBackward0>)\n",
      "tensor([ 0.0238, -0.0170,  0.0277, -0.0142,  0.0146,  0.0914, -0.0522,  0.1012],\n",
      "       grad_fn=<AddBackward0>)\n",
      "tensor([-0.0220, -0.0695, -0.0174, -0.0664, -0.0327,  0.0568, -0.1107,  0.0682],\n",
      "       grad_fn=<AddBackward0>)\n",
      "tensor([-0.0678, -0.1221, -0.0626, -0.1184, -0.0800,  0.0222, -0.1691,  0.0352],\n",
      "       grad_fn=<AddBackward0>)\n",
      "tensor([-0.1135, -0.1745, -0.1076, -0.1704, -0.1272, -0.0123, -0.2274,  0.0023],\n",
      "       grad_fn=<AddBackward0>)\n",
      "[-0.0008627325296401978, 0.11081758141517639, 0.22235429286956787, 0.3337475061416626, 0.4449974596500397, 0.556104302406311, 0.6670682430267334, 0.7778893709182739, 0.8885679841041565, 0.9991042613983154]\n"
     ]
    },
    {
     "data": {
      "image/png": "[encoded data removed]",
      "text/plain": [
       "<Figure size 640x480 with 1 Axes>"
      ]
     },
     "metadata": {},
     "output_type": "display_data"
    }
   ],
   "source": [
    "net = ThalamoCortical(1, 8)\n",
    "net.cortical_activity = torch.ones_like(net.cortical_activity) * 0.3\n",
    "test_input_lick = torch.ones(size=(int(1/.1),))\n",
    "\n",
    "cortical_series = []\n",
    "for t in range(test_input_lick.shape[0]):\n",
    "    cortical_out = net(test_input_lick[t])\n",
    "    cortical_series.append(cortical_out.item())\n",
    "\n",
    "print(cortical_series)\n",
    "plt.plot(cortical_series)\n",
    "plt.show()"
   ]
  }
 ],
 "metadata": {
  "kernelspec": {
   "display_name": "snn",
   "language": "python",
   "name": "python3"
  },
  "language_info": {
   "codemirror_mode": {
    "name": "ipython",
    "version": 3
   },
   "file_extension": ".py",
   "mimetype": "text/x-python",
   "name": "python",
   "nbconvert_exporter": "python",
   "pygments_lexer": "ipython3",
   "version": "3.11.5"
  }
 },
 "nbformat": 4,
 "nbformat_minor": 2
}
